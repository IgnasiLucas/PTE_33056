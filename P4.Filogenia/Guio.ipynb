{
 "cells": [
  {
   "cell_type": "markdown",
   "id": "fc76036a-e6df-497e-aa7a-6fe36bb93d21",
   "metadata": {},
   "source": [
    "# Pràctica amb ordinador 4. Filogènia mitocondrial d'hominins moderns i arcaics\n",
    "## Preparació de l'ordinador\n",
    "En esta pràctica utilitzarem els paquets `phangorn` i `Biostrings`\n",
    "\n",
    "## Introducció\n",
    "Al web [http://www.phylotree.org](http://www.phylotree.org) s'acumulen més de 24000 seqüències completes d'ADN mitocondrial humà. Tota la diversitat genètica mitocondrial de les poblacions humanes actuals pot classificar-se en uns pocs haplotips principals, la filogènia dels quals es reprodueix a la figura següent:\n",
    "\n",
    "![](phylotree.png)\n",
    "\n",
    "L'objectiu d'aquesta pràctica és utilitzar dades d'ADN mitocondrial per estudiar les relacions filogenètiques entre humans actuals i alguns dels nostres parents més pròxims, com els neandertals i els denisovans. A més, aplicarem la teoria de la coalescència a les dades per extreure informació sobre les diferents poblacions d'hominins.\n",
    "\n",
    "Les dades es troben a l'arxiu `Denisovan_mtDNA.fasta` i són un alineament dels cromosomes mitocondrials complets de 9 humans moderns, 23 neandertals, 4 denisovans, un *Homo heidelbergensis*, 4 bonobos (*Pan paniscus*), 4 ximpanzés (*Pan troglodytes*) i un goril·la (que ens servirà d'*outgroup*).\n",
    "\n",
    "## Reconstrucció filogenètica i calibratge del rellotge molecular\n",
    "Igual que en la pràctica anterior, el bloc de codi següent carrega l'alineament en la sessió de treball i reconstrueix l'arbre filogenètic amb el mètode del *neighbor-joining*."
   ]
  },
  {
   "cell_type": "code",
   "execution_count": null,
   "id": "301b1165-cb94-499b-8033-b681f7fd9d4f",
   "metadata": {},
   "outputs": [],
   "source": [
    "mtDNA <- readDNAStringSet('Denisovan_mtDNA.fasta')\n",
    "distancies <- dist.dna(as.DNAbin(mtDNA), method = 'K81')\n",
    "arbreNJ <- NJ("
   ]
  },
  {
   "cell_type": "markdown",
   "id": "677b3e3d-e4d9-4aaf-8044-f150aa33fa96",
   "metadata": {},
   "source": [
    "## Mida poblacional efectiva\n",
    "\n",
    "## Taxa de mutació mitocondrial\n",
    "\n",
    "# Bibliografia\n"
   ]
  },
  {
   "cell_type": "code",
   "execution_count": null,
   "id": "0e228acb-1bb1-4a48-bd79-079deee4f8dc",
   "metadata": {},
   "outputs": [],
   "source": []
  }
 ],
 "metadata": {
  "kernelspec": {
   "display_name": "R",
   "language": "R",
   "name": "ir"
  },
  "language_info": {
   "codemirror_mode": "r",
   "file_extension": ".r",
   "mimetype": "text/x-r-source",
   "name": "R",
   "pygments_lexer": "r",
   "version": "4.2.2"
  }
 },
 "nbformat": 4,
 "nbformat_minor": 5
}
